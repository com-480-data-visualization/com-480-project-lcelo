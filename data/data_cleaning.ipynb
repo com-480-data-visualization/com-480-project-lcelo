{
 "cells": [
  {
   "cell_type": "code",
   "execution_count": 24,
   "metadata": {},
   "outputs": [],
   "source": [
    "import pandas as pd"
   ]
  },
  {
   "cell_type": "markdown",
   "metadata": {},
   "source": [
    "## Fill blanks in cases"
   ]
  },
  {
   "cell_type": "code",
   "execution_count": 25,
   "metadata": {},
   "outputs": [],
   "source": [
    "df = pd.read_json(\"covid19-cases-switzerland-master/covid19_cases_switzerland_openzh.json\",convert_axes = False)\n",
    "df.loc[\"2020-02-25\"] = df.loc[\"2020-02-25\"].fillna(0.0) #0.0 at start\n",
    "df.fillna(method = 'pad', axis = 0, inplace = True) #pad\n",
    "df.to_json(\"../website/data/switzerland/covid19_cases_switzerland_openzh_clean.json\")"
   ]
  },
  {
   "cell_type": "code",
   "execution_count": 26,
   "metadata": {},
   "outputs": [
    {
     "data": {
      "text/plain": [
       "5418.0"
      ]
     },
     "execution_count": 26,
     "metadata": {},
     "output_type": "execute_result"
    }
   ],
   "source": [
    "max(df.max()[:-1])"
   ]
  },
  {
   "cell_type": "markdown",
   "metadata": {},
   "source": [
    "## Fill blanks in deaths"
   ]
  },
  {
   "cell_type": "code",
   "execution_count": 27,
   "metadata": {},
   "outputs": [],
   "source": [
    "df = pd.read_json(\"covid19-cases-switzerland-master/covid19_fatalities_switzerland_openzh.json\",convert_axes = False)\n",
    "df.loc[\"2020-02-25\"] = df.loc[\"2020-02-25\"].fillna(0.0) #0.0 at start\n",
    "df.fillna(method = 'pad', axis = 0, inplace = True) #pad\n",
    "df.to_json(\"../website/data/switzerland/covid19_fatalities_switzerland_openzh_clean.json\")"
   ]
  },
  {
   "cell_type": "code",
   "execution_count": 28,
   "metadata": {},
   "outputs": [
    {
     "data": {
      "text/plain": [
       "401.0"
      ]
     },
     "execution_count": 28,
     "metadata": {},
     "output_type": "execute_result"
    }
   ],
   "source": [
    "max(df.max()[:-1])"
   ]
  },
  {
   "cell_type": "markdown",
   "metadata": {},
   "source": [
    "## Fill blanks in recov"
   ]
  },
  {
   "cell_type": "code",
   "execution_count": 29,
   "metadata": {},
   "outputs": [],
   "source": [
    "df = pd.read_json(\"covid19-cases-switzerland-master/covid19_released_switzerland_openzh.json\",convert_axes = False)\n",
    "df.loc[\"2020-02-25\"] = df.loc[\"2020-02-25\"].fillna(0.0) #0.0 at start\n",
    "df.fillna(method = 'pad', axis = 0, inplace = True) #pad\n",
    "df.to_json(\"../website/data/switzerland/covid19_released_switzerland_openzh_clean.json\")"
   ]
  },
  {
   "cell_type": "code",
   "execution_count": 30,
   "metadata": {},
   "outputs": [
    {
     "data": {
      "text/plain": [
       "1075.0"
      ]
     },
     "execution_count": 30,
     "metadata": {},
     "output_type": "execute_result"
    }
   ],
   "source": [
    "max(df.max()[:-1])"
   ]
  },
  {
   "cell_type": "code",
   "execution_count": null,
   "metadata": {},
   "outputs": [],
   "source": []
  }
 ],
 "metadata": {
  "kernelspec": {
   "display_name": "Python 3",
   "language": "python",
   "name": "python3"
  },
  "language_info": {
   "codemirror_mode": {
    "name": "ipython",
    "version": 3
   },
   "file_extension": ".py",
   "mimetype": "text/x-python",
   "name": "python",
   "nbconvert_exporter": "python",
   "pygments_lexer": "ipython3",
   "version": "3.7.4"
  }
 },
 "nbformat": 4,
 "nbformat_minor": 2
}
