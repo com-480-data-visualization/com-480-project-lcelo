{
 "cells": [
  {
   "cell_type": "code",
   "execution_count": 1,
   "metadata": {},
   "outputs": [],
   "source": [
    "import pandas as pd"
   ]
  },
  {
   "cell_type": "code",
   "execution_count": 2,
   "metadata": {},
   "outputs": [],
   "source": [
    "df = pd.read_json(\"covid19-cases-switzerland-master/covid19_cases_switzerland_openzh.json\",convert_axes = False)\n",
    "df.loc[\"2020-02-25\"] = df.loc[\"2020-02-25\"].fillna(0.0) #0.0 at start\n",
    "df.fillna(method = 'pad', axis = 0, inplace = True) #pad\n",
    "df.to_json(\"../website/data/switzerland/covid19_cases_switzerland_openzh_clean.json\")"
   ]
  }
 ],
 "metadata": {
  "kernelspec": {
   "display_name": "Python 3",
   "language": "python",
   "name": "python3"
  },
  "language_info": {
   "codemirror_mode": {
    "name": "ipython",
    "version": 3
   },
   "file_extension": ".py",
   "mimetype": "text/x-python",
   "name": "python",
   "nbconvert_exporter": "python",
   "pygments_lexer": "ipython3",
   "version": "3.7.4"
  }
 },
 "nbformat": 4,
 "nbformat_minor": 2
}
