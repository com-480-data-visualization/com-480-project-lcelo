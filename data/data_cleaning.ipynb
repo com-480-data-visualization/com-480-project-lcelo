{
 "cells": [
  {
   "cell_type": "code",
   "execution_count": 17,
   "metadata": {},
   "outputs": [],
   "source": [
    "import pandas as pd\n",
    "import numpy as np\n",
    "pd.set_option('display.max_columns', None)\n",
    "pd.set_option('display.max_rows', None)"
   ]
  },
  {
   "cell_type": "code",
   "execution_count": 59,
   "metadata": {},
   "outputs": [],
   "source": [
    "df = pd.read_json(\"covid19-cases-switzerland-master/covid19_cases_switzerland_openzh.json\",convert_axes = False)\n",
    "df.loc[\"2020-02-25\"] = df.loc[\"2020-02-25\"].fillna(0.0) #0.0 at start\n",
    "df.fillna(method = 'pad', axis = 0, inplace = True) #pad"
   ]
  },
  {
   "cell_type": "markdown",
   "metadata": {},
   "source": [
    "If we want to display percentage between each canton"
   ]
  },
  {
   "cell_type": "code",
   "execution_count": 80,
   "metadata": {},
   "outputs": [],
   "source": [
    "df_pct = df.copy()\n",
    "cols = df_pct.columns[:-1]\n",
    "df_pct[cols] = df_pct[cols].div(df_pct[cols].sum(axis=1), axis=0).multiply(100)\n",
    "df_pct.iloc[0,:] = 0\n",
    "\n",
    "df_pct.to_json(\"../website/data/switzerland/covid19_cases_switzerland_openzh_clean_pcercentage.json\")"
   ]
  },
  {
   "cell_type": "markdown",
   "metadata": {},
   "source": [
    "If we want to display percentage in function of canton's density"
   ]
  },
  {
   "cell_type": "code",
   "execution_count": 76,
   "metadata": {},
   "outputs": [],
   "source": [
    "densities = {\n",
    "    'ZH': 1520968,\n",
    "    'BE': 1034977,\n",
    "    'LU': 409557,\n",
    "    'UR': 36433,\n",
    "    'SZ': 159165,\n",
    "    'OW': 37841,\n",
    "    'NW': 43223,\n",
    "    'GL': 40403,\n",
    "    'ZG': 126837,\n",
    "    'FR': 318714,\n",
    "    'SO': 273194,\n",
    "    'BS': 200298,\n",
    "    'BL': 289527,\n",
    "    'SH': 81991,\n",
    "    'AR': 55234,\n",
    "    'AI': 16145,\n",
    "    'SG': 507697,\n",
    "    'GR': 198379,\n",
    "    'AG': 678207,\n",
    "    'TG': 276472,\n",
    "    'TI': 353343,\n",
    "    'VD': 799145,\n",
    "    'VS': 343955,\n",
    "    'NE': 176850,\n",
    "    'GE': 499480,\n",
    "    'JU': 73419\n",
    "}"
   ]
  },
  {
   "cell_type": "code",
   "execution_count": 74,
   "metadata": {},
   "outputs": [
    {
     "data": {
      "text/plain": [
       "'AI'"
      ]
     },
     "execution_count": 74,
     "metadata": {},
     "output_type": "execute_result"
    }
   ],
   "source": [
    "cols[1]"
   ]
  },
  {
   "cell_type": "code",
   "execution_count": 78,
   "metadata": {},
   "outputs": [],
   "source": [
    "df_density = df.copy()\n",
    "cols = df_density.columns[:-1]\n",
    "for col in cols:\n",
    "    df_density[col] = df_density[col].div(densities[col]).multiply(100)\n"
   ]
  },
  {
   "cell_type": "code",
   "execution_count": 81,
   "metadata": {},
   "outputs": [],
   "source": [
    "\n",
    "df.to_json(\"../website/data/switzerland/covid19_cases_switzerland_openzh_clean_densities.json\")"
   ]
  },
  {
   "cell_type": "code",
   "execution_count": 82,
   "metadata": {},
   "outputs": [],
   "source": [
    "df.to_json(\"../website/data/switzerland/covid19_cases_switzerland_openzh_clean.json\")"
   ]
  },
  {
   "cell_type": "code",
   "execution_count": null,
   "metadata": {},
   "outputs": [],
   "source": []
  }
 ],
 "metadata": {
  "kernelspec": {
   "display_name": "Python 3",
   "language": "python",
   "name": "python3"
  },
  "language_info": {
   "codemirror_mode": {
    "name": "ipython",
    "version": 3
   },
   "file_extension": ".py",
   "mimetype": "text/x-python",
   "name": "python",
   "nbconvert_exporter": "python",
   "pygments_lexer": "ipython3",
   "version": "3.7.3"
  }
 },
 "nbformat": 4,
 "nbformat_minor": 2
}
