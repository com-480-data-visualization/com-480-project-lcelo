{
 "cells": [
  {
   "cell_type": "code",
   "execution_count": 1,
   "metadata": {},
   "outputs": [],
   "source": [
    "import json\n",
    "import pandas as pd\n",
    "import numpy as np\n",
    "pd.set_option('display.max_columns', None)\n",
    "pd.set_option('display.max_rows', None)"
   ]
  },
  {
   "cell_type": "markdown",
   "metadata": {},
   "source": [
    "## Map"
   ]
  },
  {
   "cell_type": "code",
   "execution_count": 2,
   "metadata": {},
   "outputs": [],
   "source": [
    "densities = {\n",
    "    'ZH': 1520968,\n",
    "    'BE': 1034977,\n",
    "    'LU': 409557,\n",
    "    'UR': 36433,\n",
    "    'SZ': 159165,\n",
    "    'OW': 37841,\n",
    "    'NW': 43223,\n",
    "    'GL': 40403,\n",
    "    'ZG': 126837,\n",
    "    'FR': 318714,\n",
    "    'SO': 273194,\n",
    "    'BS': 200298,\n",
    "    'BL': 289527,\n",
    "    'SH': 81991,\n",
    "    'AR': 55234,\n",
    "    'AI': 16145,\n",
    "    'SG': 507697,\n",
    "    'GR': 198379,\n",
    "    'AG': 678207,\n",
    "    'TG': 276472,\n",
    "    'TI': 353343,\n",
    "    'VD': 799145,\n",
    "    'VS': 343955,\n",
    "    'NE': 176850,\n",
    "    'GE': 499480,\n",
    "    'JU': 73419\n",
    "}\n",
    "\n",
    "densities['CH'] = sum(densities.values())"
   ]
  },
  {
   "cell_type": "code",
   "execution_count": 3,
   "metadata": {},
   "outputs": [
    {
     "name": "stdout",
     "output_type": "stream",
     "text": [
      "5440.0\n",
      "25.0\n",
      "1.0276687755265477\n"
     ]
    }
   ],
   "source": [
    "df = pd.read_json(\"covid19-cases-switzerland-master/covid19_cases_switzerland_openzh.json\",convert_axes = False)\n",
    "df.loc[\"2020-02-25\"] = df.loc[\"2020-02-25\"].fillna(0.0) #0.0 at start\n",
    "df.fillna(method = 'pad', axis = 0, inplace = True) #pad\n",
    "df.to_json(\"../website/data/switzerland/covid19_cases_switzerland_openzh_clean.json\")\n",
    "print(max(df.max()[:-1]))\n",
    "\n",
    "#If we want to display percentage between each canton\n",
    "df_pct = df.copy()\n",
    "cols = df_pct.columns\n",
    "df_pct[cols] = df_pct[cols].div(df_pct[cols].sum(axis=1), axis=0).multiply(100)\n",
    "df_pct.iloc[0,:] = 0\n",
    "df_pct.to_json(\"../website/data/switzerland/covid19_cases_switzerland_openzh_clean_percentage.json\")\n",
    "print(max(df_pct.max()[:-1]))\n",
    "\n",
    "#If we want to display percentage in function of canton's density\n",
    "df_density = df.copy()\n",
    "cols = df_density.columns\n",
    "for col in cols:\n",
    "    df_density[col] = df_density[col].div(densities[col]).multiply(100)\n",
    "df_density.to_json(\"../website/data/switzerland/covid19_cases_switzerland_openzh_clean_densities.json\")\n",
    "print(max(df_density.max()[:-1]))"
   ]
  },
  {
   "cell_type": "code",
   "execution_count": 4,
   "metadata": {},
   "outputs": [
    {
     "name": "stdout",
     "output_type": "stream",
     "text": [
      "406.0\n",
      "50.0\n",
      "0.09848787155823095\n"
     ]
    }
   ],
   "source": [
    "df = pd.read_json(\"covid19-cases-switzerland-master/covid19_fatalities_switzerland_openzh.json\",convert_axes = False)\n",
    "df.loc[\"2020-02-25\"] = df.loc[\"2020-02-25\"].fillna(0.0) #0.0 at start\n",
    "df.fillna(method = 'pad', axis = 0, inplace = True) #pad\n",
    "df.to_json(\"../website/data/switzerland/covid19_fatalities_switzerland_openzh_clean.json\")\n",
    "print(max(df.max()[:-1]))\n",
    "\n",
    "#If we want to display percentage between each canton\n",
    "df_pct = df.copy()\n",
    "cols = df_pct.columns\n",
    "df_pct[cols] = df_pct[cols].div(df_pct[cols].sum(axis=1), axis=0).multiply(100)\n",
    "df_pct.iloc[0,:] = 0\n",
    "df_pct.to_json(\"../website/data/switzerland/covid19_fatalities_switzerland_openzh_clean_percentage.json\")\n",
    "print(max(df_pct.max()[:-1]))\n",
    "\n",
    "#If we want to display percentage in function of canton's density\n",
    "df_density = df.copy()\n",
    "cols = df_density.columns\n",
    "for col in cols:\n",
    "    df_density[col] = df_density[col].div(densities[col]).multiply(100)\n",
    "df_density.to_json(\"../website/data/switzerland/covid19_fatalities_switzerland_openzh_clean_densities.json\")\n",
    "print(max(df_density.max()[:-1]))"
   ]
  },
  {
   "cell_type": "code",
   "execution_count": 5,
   "metadata": {},
   "outputs": [
    {
     "name": "stdout",
     "output_type": "stream",
     "text": [
      "1110.0\n",
      "50.0\n",
      "0.4608133880518028\n"
     ]
    }
   ],
   "source": [
    "df = pd.read_json(\"covid19-cases-switzerland-master/covid19_released_switzerland_openzh.json\",convert_axes = False)\n",
    "df.loc[\"2020-02-25\"] = df.loc[\"2020-02-25\"].fillna(0.0) #0.0 at start\n",
    "df.fillna(method = 'pad', axis = 0, inplace = True) #pad\n",
    "df.to_json(\"../website/data/switzerland/covid19_released_switzerland_openzh_clean.json\")\n",
    "print(max(df.max()[:-1]))\n",
    "\n",
    "#If we want to display percentage between each canton\n",
    "df_pct = df.copy()\n",
    "cols = df_pct.columns\n",
    "df_pct[cols] = df_pct[cols].div(df_pct[cols].sum(axis=1), axis=0).multiply(100)\n",
    "df_pct.iloc[0,:] = 0\n",
    "df_pct.to_json(\"../website/data/switzerland/covid19_released_switzerland_openzh_clean_percentage.json\")\n",
    "print(max(df_pct.max()[:-1]))\n",
    "\n",
    "#If we want to display percentage in function of canton's density\n",
    "df_density = df.copy()\n",
    "cols = df_density.columns\n",
    "for col in cols:\n",
    "    df_density[col] = df_density[col].div(densities[col]).multiply(100)\n",
    "df_density.to_json(\"../website/data/switzerland/covid19_released_switzerland_openzh_clean_densities.json\")\n",
    "print(max(df_density.max()[:-1]))"
   ]
  },
  {
   "cell_type": "markdown",
   "metadata": {},
   "source": [
    "## Hospitalization"
   ]
  },
  {
   "cell_type": "code",
   "execution_count": 6,
   "metadata": {},
   "outputs": [],
   "source": [
    "df_hosp = pd.read_csv(\"covid19-cases-switzerland-master/covid19_hospitalized_switzerland_openzh.csv\", index_col = \"Date\")\n",
    "df_hosp.loc[\"2020-02-25\"] = df_hosp.loc[\"2020-02-25\"].fillna(0.0) #0.0 at start\n",
    "df_hosp = df_hosp.interpolate().round() \n",
    "df_hosp.drop(\"2020-02-25\", axis = 0, inplace = True)\n",
    "\n",
    "df_icu = pd.read_csv(\"covid19-cases-switzerland-master/covid19_icu_switzerland_openzh.csv\", index_col = \"Date\")\n",
    "df_icu.loc[\"2020-02-25\"] = df_icu.loc[\"2020-02-25\"].fillna(0.0) #0.0 at start\n",
    "df_icu = df_icu.interpolate().round()\n",
    "df_icu.drop(\"2020-02-25\", axis = 0, inplace = True)\n",
    "\n",
    "df_vent = pd.read_csv(\"covid19-cases-switzerland-master/covid19_vent_switzerland_openzh.csv\", index_col = \"Date\")\n",
    "df_vent.loc[\"2020-02-25\"] = df_vent.loc[\"2020-02-25\"].fillna(0.0) #0.0 at start\n",
    "df_vent = df_vent.interpolate().round()\n",
    "df_vent.drop(\"2020-02-25\", axis = 0, inplace = True)"
   ]
  },
  {
   "cell_type": "code",
   "execution_count": 7,
   "metadata": {},
   "outputs": [],
   "source": [
    "hosp_data = {}\n",
    "for date in df_hosp.index:\n",
    "    hosp_data[date] = []\n",
    "    index = 0\n",
    "    for canton in df_hosp.columns[:-1]:\n",
    "        temp = {}\n",
    "        temp['x'] = canton\n",
    "        temp['y'] = \"Hospitalization\"\n",
    "        temp['value'] = df_hosp.loc[date][canton]\n",
    "        hosp_data[date].append(temp)\n",
    "        \n",
    "        temp = {}\n",
    "        temp['x'] = canton\n",
    "        temp['y'] = \"ICU\"\n",
    "        temp['value'] = df_icu.loc[date][canton]\n",
    "        hosp_data[date].append(temp)\n",
    "        \n",
    "        temp = {}\n",
    "        temp['x'] = canton\n",
    "        temp['y'] = \"Ventilation\"\n",
    "        temp['value'] = df_vent.loc[date][canton]\n",
    "        hosp_data[date].append(temp)"
   ]
  },
  {
   "cell_type": "code",
   "execution_count": 8,
   "metadata": {},
   "outputs": [],
   "source": [
    "with open(\"../website/data/switzerland/covid19_hosp_switzerland_openzh_clean.json\", 'w') as fp:\n",
    "    json.dump(hosp_data, fp)"
   ]
  },
  {
   "cell_type": "code",
   "execution_count": 9,
   "metadata": {},
   "outputs": [],
   "source": [
    "hosp_data = {}\n",
    "for date in df_hosp.index:\n",
    "    hosp_data[date] = []\n",
    "    index = 0\n",
    "    for canton in df_hosp.columns[:-1]:\n",
    "        temp = {}\n",
    "        temp['canton'] = canton\n",
    "        temp['Hospitalization'] = df_hosp.loc[date][canton]\n",
    "        temp['ICU'] = df_icu.loc[date][canton]\n",
    "        hosp_data[date].append(temp)\n",
    "        temp['Ventilation'] = df_vent.loc[date][canton]\n",
    "        hosp_data[date].append(temp)\n",
    "        \n",
    "with open(\"../website/data/switzerland/covid19_hosp_switzerland_openzh_clean_barchart.json\", 'w') as fp:\n",
    "    json.dump(hosp_data, fp)"
   ]
  },
  {
   "cell_type": "code",
   "execution_count": null,
   "metadata": {},
   "outputs": [],
   "source": []
  }
 ],
 "metadata": {
  "kernelspec": {
   "display_name": "Python 3",
   "language": "python",
   "name": "python3"
  },
  "language_info": {
   "codemirror_mode": {
    "name": "ipython",
    "version": 3
   },
   "file_extension": ".py",
   "mimetype": "text/x-python",
   "name": "python",
   "nbconvert_exporter": "python",
   "pygments_lexer": "ipython3",
   "version": "3.7.4"
  }
 },
 "nbformat": 4,
 "nbformat_minor": 2
}
