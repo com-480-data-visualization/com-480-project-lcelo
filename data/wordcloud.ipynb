{
 "cells": [
  {
   "cell_type": "code",
   "execution_count": 1,
   "metadata": {},
   "outputs": [],
   "source": [
    "import pandas as pd\n",
    "import numpy as np"
   ]
  },
  {
   "cell_type": "code",
   "execution_count": 80,
   "metadata": {},
   "outputs": [],
   "source": [
    "file = \"novel-corona-virus-2019-dataset-2/COVID19_open_line_list.csv\"\n",
    "file2 = \"novel-corona-virus-2019-dataset-2/COVID19_line_list_data.csv\"\n"
   ]
  },
  {
   "cell_type": "code",
   "execution_count": 81,
   "metadata": {},
   "outputs": [],
   "source": [
    "df1 = pd.read_csv(file)\n",
    "df2 = pd.read_csv(file2)"
   ]
  },
  {
   "cell_type": "code",
   "execution_count": 82,
   "metadata": {},
   "outputs": [],
   "source": [
    "symptomdf1 = df1.symptoms.dropna()"
   ]
  },
  {
   "cell_type": "code",
   "execution_count": 83,
   "metadata": {},
   "outputs": [],
   "source": [
    "sym1 = symptomdf1.str.split(',', expand=False).explode().str.split('and', expand=False).explode().str.split(';', expand=False).explode()#.str.contains('fever')"
   ]
  },
  {
   "cell_type": "code",
   "execution_count": 84,
   "metadata": {},
   "outputs": [],
   "source": [
    "sym1[sym1.str.contains('fever')] = 'fever'\n",
    "sym1[sym1.str.contains('Fever')] = 'fever'\n",
    "\n",
    "sym1[sym1.str.startswith(' ')] = ''\n",
    "\n",
    "#sym1[sym1.str.contains(' nausea')] = 'nausea'\n",
    "\n",
    "#sym1[sym1.str.contains(' pneumonia')] = 'pneumonia'\n",
    "\n",
    "#sym1[sym1.str.contains(' cough')] = 'cough'\n",
    "\n",
    "sym1[sym1.str.contains('sore throa') ] = 'sore throat'\n",
    "\n",
    "#sym1[sym1.str.contains(' fatigue')] = 'fatigue'\n",
    "\n",
    "\n",
    "#sym1[sym1.str.contains(' sneezing')] = 'sneezing'\n"
   ]
  },
  {
   "cell_type": "code",
   "execution_count": 87,
   "metadata": {},
   "outputs": [
    {
     "name": "stderr",
     "output_type": "stream",
     "text": [
      "/Users/aslam/opt/anaconda3/lib/python3.7/site-packages/ipykernel_launcher.py:1: FutureWarning: The signature of `Series.to_csv` was aligned to that of `DataFrame.to_csv`, and argument 'header' will change its default value from False to True: please pass an explicit value to suppress this warning.\n",
      "  \"\"\"Entry point for launching an IPython kernel.\n"
     ]
    }
   ],
   "source": [
    "sym1.value_counts().to_csv('salut.csv')"
   ]
  },
  {
   "cell_type": "code",
   "execution_count": 28,
   "metadata": {},
   "outputs": [
    {
     "data": {
      "text/plain": [
       "fever                            73\n",
       "fever, cough                     36\n",
       "cough                            14\n",
       "fever, malaise                    7\n",
       "fever, cough, malaise             6\n",
       "                                 ..\n",
       "feve\\                             1\n",
       "fatigue, difficulty breathing     1\n",
       "fatigue, loss of appetite         1\n",
       "mild fever                        1\n",
       "chest discomfort                  1\n",
       "Name: symptom, Length: 108, dtype: int64"
      ]
     },
     "execution_count": 28,
     "metadata": {},
     "output_type": "execute_result"
    }
   ],
   "source": [
    "df2.symptom.dropna().value_counts()"
   ]
  },
  {
   "cell_type": "code",
   "execution_count": null,
   "metadata": {},
   "outputs": [],
   "source": []
  }
 ],
 "metadata": {
  "kernelspec": {
   "display_name": "Python 3",
   "language": "python",
   "name": "python3"
  },
  "language_info": {
   "codemirror_mode": {
    "name": "ipython",
    "version": 3
   },
   "file_extension": ".py",
   "mimetype": "text/x-python",
   "name": "python",
   "nbconvert_exporter": "python",
   "pygments_lexer": "ipython3",
   "version": "3.7.4"
  }
 },
 "nbformat": 4,
 "nbformat_minor": 2
}
